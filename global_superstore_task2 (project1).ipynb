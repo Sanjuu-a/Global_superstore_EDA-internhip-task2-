{
 "cells": [
  {
   "cell_type": "markdown",
   "id": "176e80e1",
   "metadata": {},
   "source": [
    "# General EDA using Global Superstore dataset\n",
    "## Project 1 (Task 2)"
   ]
  },
  {
   "cell_type": "markdown",
   "id": "df4a146f",
   "metadata": {},
   "source": [
    "### Import libraries"
   ]
  },
  {
   "cell_type": "code",
   "execution_count": 31,
   "id": "1db9696c",
   "metadata": {},
   "outputs": [],
   "source": [
    "import pandas as pd\n",
    "import numpy as np\n",
    "import seaborn as sns\n",
    "import matplotlib.pyplot as plt"
   ]
  },
  {
   "cell_type": "markdown",
   "id": "f899bab1",
   "metadata": {},
   "source": [
    "### 1. Data loading"
   ]
  },
  {
   "cell_type": "code",
   "execution_count": 32,
   "id": "d7763bc5",
   "metadata": {},
   "outputs": [],
   "source": [
    "file_path = r\"D:\\Sanjana\\Coding practice\\Internship_mainflow\\superstore.csv\" \n",
    "df = pd.read_csv(file_path, sep=',') "
   ]
  },
  {
   "cell_type": "code",
   "execution_count": 33,
   "id": "fb95bfa6",
   "metadata": {},
   "outputs": [
    {
     "name": "stdout",
     "output_type": "stream",
     "text": [
      "          Category         City        Country Customer.ID     Customer.Name  \\\n",
      "0  Office Supplies  Los Angeles  United States   LS-172304  Lycoris Saunders   \n",
      "1  Office Supplies  Los Angeles  United States   MV-174854     Mark Van Huff   \n",
      "2  Office Supplies  Los Angeles  United States   CS-121304      Chad Sievert   \n",
      "3  Office Supplies  Los Angeles  United States   CS-121304      Chad Sievert   \n",
      "4  Office Supplies  Los Angeles  United States   AP-109154    Arthur Prichep   \n",
      "\n",
      "   Discount Market  记录数               Order.Date        Order.ID  ... Sales  \\\n",
      "0       0.0     US    1  2011-01-07 00:00:00.000  CA-2011-130813  ...    19   \n",
      "1       0.0     US    1  2011-01-21 00:00:00.000  CA-2011-148614  ...    19   \n",
      "2       0.0     US    1  2011-08-05 00:00:00.000  CA-2011-118962  ...    21   \n",
      "3       0.0     US    1  2011-08-05 00:00:00.000  CA-2011-118962  ...   111   \n",
      "4       0.0     US    1  2011-09-29 00:00:00.000  CA-2011-146969  ...     6   \n",
      "\n",
      "    Segment                Ship.Date       Ship.Mode  Shipping.Cost  \\\n",
      "0  Consumer  2011-01-09 00:00:00.000    Second Class           4.37   \n",
      "1  Consumer  2011-01-26 00:00:00.000  Standard Class           0.94   \n",
      "2  Consumer  2011-08-09 00:00:00.000  Standard Class           1.81   \n",
      "3  Consumer  2011-08-09 00:00:00.000  Standard Class           4.59   \n",
      "4  Consumer  2011-10-03 00:00:00.000  Standard Class           1.32   \n",
      "\n",
      "        State  Sub.Category  Year        Market2 weeknum  \n",
      "0  California         Paper  2011  North America       2  \n",
      "1  California         Paper  2011  North America       4  \n",
      "2  California         Paper  2011  North America      32  \n",
      "3  California         Paper  2011  North America      32  \n",
      "4  California         Paper  2011  North America      40  \n",
      "\n",
      "[5 rows x 27 columns]\n"
     ]
    }
   ],
   "source": [
    "# Display the first few rows\n",
    "print(df.head())"
   ]
  },
  {
   "cell_type": "markdown",
   "id": "4d8fa1ff",
   "metadata": {},
   "source": [
    "### 2. Clean Data"
   ]
  },
  {
   "cell_type": "code",
   "execution_count": 34,
   "id": "cc08d3c1",
   "metadata": {},
   "outputs": [
    {
     "name": "stdout",
     "output_type": "stream",
     "text": [
      "Missing values per column:\n",
      " Category          0\n",
      "City              0\n",
      "Country           0\n",
      "Customer.ID       0\n",
      "Customer.Name     0\n",
      "Discount          0\n",
      "Market            0\n",
      "记录数               0\n",
      "Order.Date        0\n",
      "Order.ID          0\n",
      "Order.Priority    0\n",
      "Product.ID        0\n",
      "Product.Name      0\n",
      "Profit            0\n",
      "Quantity          0\n",
      "Region            0\n",
      "Row.ID            0\n",
      "Sales             0\n",
      "Segment           0\n",
      "Ship.Date         0\n",
      "Ship.Mode         0\n",
      "Shipping.Cost     0\n",
      "State             0\n",
      "Sub.Category      0\n",
      "Year              0\n",
      "Market2           0\n",
      "weeknum           0\n",
      "dtype: int64\n"
     ]
    }
   ],
   "source": [
    "# (a) Check for missing values\n",
    "print(\"Missing values per column:\\n\", df.isnull().sum())"
   ]
  },
  {
   "cell_type": "code",
   "execution_count": 35,
   "id": "0528603a",
   "metadata": {},
   "outputs": [],
   "source": [
    "# Fill missing numerical values with median\n",
    "df.fillna(df.median(numeric_only=True), inplace=True)\n"
   ]
  },
  {
   "cell_type": "code",
   "execution_count": 36,
   "id": "eebb8490",
   "metadata": {},
   "outputs": [],
   "source": [
    "# Fill missing categorical values with a placeholder\n",
    "df.fillna(\"Unknown\", inplace=True)\n"
   ]
  },
  {
   "cell_type": "code",
   "execution_count": 37,
   "id": "7230e27c",
   "metadata": {},
   "outputs": [
    {
     "name": "stdout",
     "output_type": "stream",
     "text": [
      "Missing values after handling:\n",
      " Category          0\n",
      "City              0\n",
      "Country           0\n",
      "Customer.ID       0\n",
      "Customer.Name     0\n",
      "Discount          0\n",
      "Market            0\n",
      "记录数               0\n",
      "Order.Date        0\n",
      "Order.ID          0\n",
      "Order.Priority    0\n",
      "Product.ID        0\n",
      "Product.Name      0\n",
      "Profit            0\n",
      "Quantity          0\n",
      "Region            0\n",
      "Row.ID            0\n",
      "Sales             0\n",
      "Segment           0\n",
      "Ship.Date         0\n",
      "Ship.Mode         0\n",
      "Shipping.Cost     0\n",
      "State             0\n",
      "Sub.Category      0\n",
      "Year              0\n",
      "Market2           0\n",
      "weeknum           0\n",
      "dtype: int64\n"
     ]
    }
   ],
   "source": [
    "# Confirm no missing values remain\n",
    "print(\"Missing values after handling:\\n\", df.isnull().sum())"
   ]
  },
  {
   "cell_type": "markdown",
   "id": "d9e40295",
   "metadata": {},
   "source": [
    "### (b)Remove duplicates\n"
   ]
  },
  {
   "cell_type": "code",
   "execution_count": 38,
   "id": "24ee6da5",
   "metadata": {},
   "outputs": [
    {
     "name": "stdout",
     "output_type": "stream",
     "text": [
      "Number of duplicate rows: 0\n",
      "Dataset shape after removing duplicates: (51290, 27)\n"
     ]
    }
   ],
   "source": [
    "# Check for duplicates\n",
    "print(\"Number of duplicate rows:\", df.duplicated().sum())\n",
    "\n",
    "# Remove duplicates\n",
    "df.drop_duplicates(inplace=True)\n",
    "print(\"Dataset shape after removing duplicates:\", df.shape)\n"
   ]
  },
  {
   "cell_type": "markdown",
   "id": "32b41d0c",
   "metadata": {},
   "source": [
    "### (c) Handle outliers (Using IQR Method)\n"
   ]
  },
  {
   "cell_type": "code",
   "execution_count": 39,
   "id": "d0b25efb",
   "metadata": {},
   "outputs": [
    {
     "name": "stdout",
     "output_type": "stream",
     "text": [
      "Index(['Category', 'City', 'Country', 'Customer.ID', 'Customer.Name',\n",
      "       'Discount', 'Market', '记录数', 'Order.Date', 'Order.ID', 'Order.Priority',\n",
      "       'Product.ID', 'Product.Name', 'Profit', 'Quantity', 'Region', 'Row.ID',\n",
      "       'Sales', 'Segment', 'Ship.Date', 'Ship.Mode', 'Shipping.Cost', 'State',\n",
      "       'Sub.Category', 'Year', 'Market2', 'weeknum'],\n",
      "      dtype='object')\n"
     ]
    }
   ],
   "source": [
    "print(df.columns)"
   ]
  },
  {
   "cell_type": "code",
   "execution_count": 40,
   "id": "2139df15",
   "metadata": {},
   "outputs": [
    {
     "name": "stdout",
     "output_type": "stream",
     "text": [
      "Dataset shape after handling outliers: (31775, 27)\n"
     ]
    }
   ],
   "source": [
    "# Identify numerical columns\n",
    "numerical_cols = df.select_dtypes(include=['float64', 'int64']).columns\n",
    "\n",
    "# Handle outliers for each numerical column\n",
    "for col in numerical_cols:\n",
    "    Q1 = df[col].quantile(0.25)\n",
    "    Q3 = df[col].quantile(0.75)\n",
    "    IQR = Q3 - Q1\n",
    "    lower_bound = Q1 - 1.5 * IQR\n",
    "    upper_bound = Q3 + 1.5 * IQR\n",
    "    df = df[(df[col] >= lower_bound) & (df[col] <= upper_bound)]\n",
    "\n",
    "print(\"Dataset shape after handling outliers:\", df.shape)\n"
   ]
  },
  {
   "cell_type": "markdown",
   "id": "2bbc2783",
   "metadata": {},
   "source": [
    "### 3. Statistical analysis"
   ]
  },
  {
   "cell_type": "code",
   "execution_count": 41,
   "id": "56ab48c5",
   "metadata": {},
   "outputs": [
    {
     "name": "stdout",
     "output_type": "stream",
     "text": [
      "Summary Statistics:\n",
      "            Discount      记录数        Profit      Quantity        Row.ID  \\\n",
      "count  31775.000000  31775.0  31775.000000  31775.000000  31775.000000   \n",
      "mean       0.093055      1.0     12.351458      2.874713  25014.629237   \n",
      "std        0.151810      0.0     21.722512      1.612040  14780.744177   \n",
      "min        0.000000      1.0    -57.402000      1.000000      1.000000   \n",
      "25%        0.000000      1.0      1.780000      2.000000  12070.500000   \n",
      "50%        0.000000      1.0      7.680000      3.000000  25077.000000   \n",
      "75%        0.200000      1.0     19.860000      4.000000  37603.500000   \n",
      "max        0.500000      1.0    100.788000      7.000000  51290.000000   \n",
      "\n",
      "              Sales  Shipping.Cost          Year       weeknum  \n",
      "count  31775.000000   31775.000000  31775.000000  31775.000000  \n",
      "mean      73.250134       6.640990   2012.777215     31.291833  \n",
      "std       66.738460       6.048856      1.097528     14.399202  \n",
      "min        1.000000       0.002000   2011.000000      1.000000  \n",
      "25%       24.000000       1.960000   2012.000000     20.000000  \n",
      "50%       50.000000       4.550000   2013.000000     33.000000  \n",
      "75%      101.000000       9.610000   2014.000000     44.000000  \n",
      "max      333.000000      25.890000   2014.000000     53.000000  \n"
     ]
    }
   ],
   "source": [
    "# (A) Compute Measures of Central Tendency and Dispersion\n",
    "# Summary statistics for numerical columns\n",
    "stats = df.describe()\n",
    "print(\"Summary Statistics:\\n\", stats)\n"
   ]
  },
  {
   "cell_type": "markdown",
   "id": "342aa490",
   "metadata": {},
   "source": [
    "#### (A)Measures like mean, median, standard deviation"
   ]
  },
  {
   "cell_type": "code",
   "execution_count": 42,
   "id": "a3ff1eed",
   "metadata": {},
   "outputs": [
    {
     "name": "stdout",
     "output_type": "stream",
     "text": [
      "Mean Sales: 73.25013375295043, Standard Deviation: 66.73845989087567, Median: 50.0\n"
     ]
    }
   ],
   "source": [
    "# Specific measures like mean, median, standard deviation, and variance \n",
    "mean_sales = df['Sales'].mean()\n",
    "std_sales = df['Sales'].std()\n",
    "median_sales = df['Sales'].median()\n",
    "\n",
    "print(f\"Mean Sales: {mean_sales}, Standard Deviation: {std_sales}, Median: {median_sales}\")"
   ]
  },
  {
   "cell_type": "markdown",
   "id": "665747d8",
   "metadata": {},
   "source": [
    "#### (B) Compute correlations between specific variables"
   ]
  },
  {
   "cell_type": "code",
   "execution_count": 43,
   "id": "27e8bf5f",
   "metadata": {},
   "outputs": [
    {
     "name": "stdout",
     "output_type": "stream",
     "text": [
      "Correlation between Discount and Profit: -0.4831850503471732\n",
      "Correlation between Sales and Profit: 0.5015999888779508\n",
      "Correlation between Shipping Cost and Profit: 0.387148940170444\n"
     ]
    }
   ],
   "source": [
    "#b. Compute Correlations between specific variables\n",
    "#1.  Correlation between Discount and Profit\n",
    "discount_profit_corr = df['Discount'].corr(df['Profit'])\n",
    "print(f\"Correlation between Discount and Profit: {discount_profit_corr}\")\n",
    "\n",
    "#2. Correlation between Sales and Profit\n",
    "sales_profit_corr = df['Sales'].corr(df['Profit'])\n",
    "print(f\"Correlation between Sales and Profit: {sales_profit_corr}\")\n",
    "\n",
    "#3. Correlation between Shipping Cost and Profit\n",
    "shipping_profit_corr = df['Shipping.Cost'].corr(df['Profit'])\n",
    "print(f\"Correlation between Shipping Cost and Profit: {shipping_profit_corr}\")\n",
    "\n"
   ]
  },
  {
   "cell_type": "code",
   "execution_count": 44,
   "id": "0c0651b1",
   "metadata": {},
   "outputs": [
    {
     "name": "stdout",
     "output_type": "stream",
     "text": [
      "Correlation Matrix for Selected Variables:\n",
      "                   Sales    Profit  Discount  Shipping.Cost  Quantity\n",
      "Sales          1.000000  0.501600 -0.082976       0.747016  0.235238\n",
      "Profit         0.501600  1.000000 -0.483185       0.387149  0.126322\n",
      "Discount      -0.082976 -0.483185  1.000000      -0.074666  0.073907\n",
      "Shipping.Cost  0.747016  0.387149 -0.074666       1.000000  0.204338\n",
      "Quantity       0.235238  0.126322  0.073907       0.204338  1.000000\n"
     ]
    }
   ],
   "source": [
    "#Correlation Matrix of Important Variables\n",
    "important_columns = ['Sales', 'Profit', 'Discount', 'Shipping.Cost', 'Quantity']\n",
    "correlation_matrix = df[important_columns].corr()\n",
    "\n",
    "print(\"Correlation Matrix for Selected Variables:\\n\", correlation_matrix)"
   ]
  },
  {
   "cell_type": "markdown",
   "id": "19d4634e",
   "metadata": {},
   "source": [
    "### Data Visulalization"
   ]
  },
  {
   "cell_type": "code",
   "execution_count": 45,
   "id": "cbfba14d",
   "metadata": {},
   "outputs": [
    {
     "name": "stderr",
     "output_type": "stream",
     "text": [
      "C:\\Users\\Nayana\\anaconda3\\lib\\site-packages\\IPython\\core\\pylabtools.py:151: UserWarning: Glyph 35760 (\\N{CJK UNIFIED IDEOGRAPH-8BB0}) missing from current font.\n",
      "  fig.canvas.print_figure(bytes_io, **kw)\n",
      "C:\\Users\\Nayana\\anaconda3\\lib\\site-packages\\IPython\\core\\pylabtools.py:151: UserWarning: Glyph 24405 (\\N{CJK UNIFIED IDEOGRAPH-5F55}) missing from current font.\n",
      "  fig.canvas.print_figure(bytes_io, **kw)\n",
      "C:\\Users\\Nayana\\anaconda3\\lib\\site-packages\\IPython\\core\\pylabtools.py:151: UserWarning: Glyph 25968 (\\N{CJK UNIFIED IDEOGRAPH-6570}) missing from current font.\n",
      "  fig.canvas.print_figure(bytes_io, **kw)\n"
     ]
    },
    {
     "data": {
      "image/png": "[encoded data removed]",
      "text/plain": [
       "<Figure size 1080x720 with 9 Axes>"
      ]
     },
     "metadata": {
      "needs_background": "light"
     },
     "output_type": "display_data"
    }
   ],
   "source": [
    "#Data Visualization\n",
    "#a. Histograms for Numerical Columns\n",
    "# Plot histograms\n",
    "df[numerical_cols].hist(bins=15, figsize=(15, 10))\n",
    "plt.suptitle(\"Histograms of Numerical Features\")\n",
    "plt.show()\n"
   ]
  },
  {
   "cell_type": "code",
   "execution_count": 46,
   "id": "6941e001",
   "metadata": {},
   "outputs": [
    {
     "data": {
      "image/png": "[encoded data removed]",
      "text/plain": [
       "<Figure size 576x288 with 1 Axes>"
      ]
     },
     "metadata": {
      "needs_background": "light"
     },
     "output_type": "display_data"
    },
    {
     "name": "stderr",
     "output_type": "stream",
     "text": [
      "C:\\Users\\Nayana\\anaconda3\\lib\\site-packages\\IPython\\core\\pylabtools.py:151: UserWarning: Glyph 35760 (\\N{CJK UNIFIED IDEOGRAPH-8BB0}) missing from current font.\n",
      "  fig.canvas.print_figure(bytes_io, **kw)\n",
      "C:\\Users\\Nayana\\anaconda3\\lib\\site-packages\\IPython\\core\\pylabtools.py:151: UserWarning: Glyph 24405 (\\N{CJK UNIFIED IDEOGRAPH-5F55}) missing from current font.\n",
      "  fig.canvas.print_figure(bytes_io, **kw)\n",
      "C:\\Users\\Nayana\\anaconda3\\lib\\site-packages\\IPython\\core\\pylabtools.py:151: UserWarning: Glyph 25968 (\\N{CJK UNIFIED IDEOGRAPH-6570}) missing from current font.\n",
      "  fig.canvas.print_figure(bytes_io, **kw)\n"
     ]
    },
    {
     "data": {
      "image/png": "[encoded data removed]",
      "text/plain": [
       "<Figure size 576x288 with 1 Axes>"
      ]
     },
     "metadata": {
      "needs_background": "light"
     },
     "output_type": "display_data"
    },
    {
     "data": {
      "image/png": "[encoded data removed]",
      "text/plain": [
       "<Figure size 576x288 with 1 Axes>"
      ]
     },
     "metadata": {
      "needs_background": "light"
     },
     "output_type": "display_data"
    },
    {
     "data": {
      "image/png": "[encoded data removed]",
      "text/plain": [
       "<Figure size 576x288 with 1 Axes>"
      ]
     },
     "metadata": {
      "needs_background": "light"
     },
     "output_type": "display_data"
    },
    {
     "data": {
      "image/png": "[encoded data removed]",
      "text/plain": [
       "<Figure size 576x288 with 1 Axes>"
      ]
     },
     "metadata": {
      "needs_background": "light"
     },
     "output_type": "display_data"
    },
    {
     "data": {
      "image/png": "[encoded data removed]",
      "text/plain": [
       "<Figure size 576x288 with 1 Axes>"
      ]
     },
     "metadata": {
      "needs_background": "light"
     },
     "output_type": "display_data"
    },
    {
     "data": {
      "image/png": "[encoded data removed]",
      "text/plain": [
       "<Figure size 576x288 with 1 Axes>"
      ]
     },
     "metadata": {
      "needs_background": "light"
     },
     "output_type": "display_data"
    },
    {
     "data": {
      "image/png": "[encoded data removed]",
      "text/plain": [
       "<Figure size 576x288 with 1 Axes>"
      ]
     },
     "metadata": {
      "needs_background": "light"
     },
     "output_type": "display_data"
    },
    {
     "data": {
      "image/png": "[encoded data removed]",
      "text/plain": [
       "<Figure size 576x288 with 1 Axes>"
      ]
     },
     "metadata": {
      "needs_background": "light"
     },
     "output_type": "display_data"
    }
   ],
   "source": [
    "#b. Boxplots to Identify Outliers\n",
    "# Plot boxplots for each numerical column\n",
    "for col in numerical_cols:\n",
    "    plt.figure(figsize=(8, 4))\n",
    "    sns.boxplot(x=df[col])\n",
    "    plt.title(f\"Boxplot of {col}\")\n",
    "    plt.show()\n"
   ]
  },
  {
   "cell_type": "code",
   "execution_count": 47,
   "id": "995062e9",
   "metadata": {},
   "outputs": [
    {
     "data": {
      "image/png": "[encoded data removed]",
      "text/plain": [
       "<Figure size 720x576 with 2 Axes>"
      ]
     },
     "metadata": {
      "needs_background": "light"
     },
     "output_type": "display_data"
    }
   ],
   "source": [
    "#c. Heatmap for Correlations\n",
    "# Plot heatmap for correlations\n",
    "plt.figure(figsize=(10, 8))\n",
    "sns.heatmap(correlation_matrix, annot=True, cmap='coolwarm', fmt=\".2f\")\n",
    "plt.title(\"Correlation Heatmap\")\n",
    "plt.show()\n"
   ]
  },
  {
   "cell_type": "code",
   "execution_count": null,
   "id": "3c203576",
   "metadata": {},
   "outputs": [],
   "source": []
  }
 ],
 "metadata": {
  "kernelspec": {
   "display_name": "Python 3 (ipykernel)",
   "language": "python",
   "name": "python3"
  },
  "language_info": {
   "codemirror_mode": {
    "name": "ipython",
    "version": 3
   },
   "file_extension": ".py",
   "mimetype": "text/x-python",
   "name": "python",
   "nbconvert_exporter": "python",
   "pygments_lexer": "ipython3",
   "version": "3.9.12"
  }
 },
 "nbformat": 4,
 "nbformat_minor": 5
}
